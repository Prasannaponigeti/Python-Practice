{
 "cells": [
  {
   "cell_type": "markdown",
   "id": "5ab59e10-18b1-4d43-9c53-47a5c443e1b2",
   "metadata": {},
   "source": [
    "#### Write a Python Program to Find LCM?"
   ]
  },
  {
   "cell_type": "code",
   "execution_count": 7,
   "id": "39165d3a-ac67-470f-8aa8-f7fd8841e6c2",
   "metadata": {},
   "outputs": [
    {
     "name": "stdin",
     "output_type": "stream",
     "text": [
      "Enter a number: 2\n",
      "Enter a number: 9\n"
     ]
    },
    {
     "name": "stdout",
     "output_type": "stream",
     "text": [
      "LCM of 2 and 9 is 18\n"
     ]
    }
   ],
   "source": [
    "num1 = int(input(\"Enter a number:\"))\n",
    "num2 = int(input(\"Enter a number:\"))\n",
    "for i in range(max(num1, num2), 1 + (num1 * num2)):\n",
    "    if i % num1 == i % num2 == 0:\n",
    "        lcm = i\n",
    "        break\n",
    "print(\"LCM of\", num1, \"and\", num2, \"is\", lcm)"
   ]
  },
  {
   "cell_type": "markdown",
   "id": "cc2c9985-914c-4473-9d3a-3497ce1718a6",
   "metadata": {},
   "source": [
    "#### Write a Python Program to Find HCF?"
   ]
  },
  {
   "cell_type": "code",
   "execution_count": 10,
   "id": "6b2bf724-3fc2-45ee-9cb5-49a0ee8d11a1",
   "metadata": {},
   "outputs": [
    {
     "name": "stdin",
     "output_type": "stream",
     "text": [
      "Enter a number: 25\n",
      "Enter a number: 50\n"
     ]
    },
    {
     "name": "stdout",
     "output_type": "stream",
     "text": [
      "Hcf of 25 and 50 is 5\n"
     ]
    }
   ],
   "source": [
    "num1 = int(input(\"Enter a number:\"))\n",
    "num2 = int(input(\"Enter a number:\"))\n",
    "hcf = 1\n",
    "\n",
    "for i in range(1, min(num1, num2)):\n",
    "    if num1 % i == 0 and num2 % i == 0:\n",
    "        hcf = i\n",
    "print(\"Hcf of\", num1, \"and\", num2, \"is\", hcf)"
   ]
  },
  {
   "cell_type": "code",
   "execution_count": 14,
   "id": "91143672-5e5b-4731-9e5c-e85cb751c5bb",
   "metadata": {},
   "outputs": [
    {
     "name": "stdin",
     "output_type": "stream",
     "text": [
      "Enter a number: 30\n",
      "Enter a number: 25\n"
     ]
    },
    {
     "name": "stdout",
     "output_type": "stream",
     "text": [
      "Hcf of 30 and 25 is 5\n"
     ]
    }
   ],
   "source": [
    "#method-2\n",
    "num1 = int(input(\"Enter a number:\"))\n",
    "num2 = int(input(\"Enter a number:\"))\n",
    "a = num1\n",
    "b = num2\n",
    "\n",
    "while num1 != num2:\n",
    "    if num1 > num2:\n",
    "        num1 -= num2\n",
    "    else:\n",
    "        num2 -= num1\n",
    "\n",
    "print(\"Hcf of\", a, \"and\", b, \"is\", num1)"
   ]
  },
  {
   "cell_type": "markdown",
   "id": "d930bf90-685e-4fb4-b70c-9fcf3ed0db94",
   "metadata": {},
   "source": [
    "#### Write a Python Program to Convert Decimal to Binary, Octal and Hexadecimal?"
   ]
  },
  {
   "cell_type": "code",
   "execution_count": 15,
   "id": "6c630543-e82a-45ad-8247-a6a69e94e7cc",
   "metadata": {},
   "outputs": [
    {
     "name": "stdin",
     "output_type": "stream",
     "text": [
      "Enter a decimal number:  25\n"
     ]
    },
    {
     "name": "stdout",
     "output_type": "stream",
     "text": [
      "The decimal number is: 25\n",
      "Binary representation: 11001\n",
      "Octal representation: 31\n",
      "Hexadecimal representation: 19\n"
     ]
    }
   ],
   "source": [
    "decimal = int(input(\"Enter a decimal number: \"))\n",
    "binary = bin(decimal)    \n",
    "octal = oct(decimal)      \n",
    "hexa = hex(decimal)       \n",
    "print(\"The decimal number is:\", decimal)\n",
    "print(\"Binary representation:\", binary[2:])     \n",
    "print(\"Octal representation:\", octal[2:])       \n",
    "print(\"Hexadecimal representation:\", hexa[2:].upper()) \n"
   ]
  },
  {
   "cell_type": "markdown",
   "id": "588ecfa1-c172-4550-99b9-c41f68287d56",
   "metadata": {},
   "source": [
    "#### Write a Python Program To Find ASCII value of a character?"
   ]
  },
  {
   "cell_type": "code",
   "execution_count": 18,
   "id": "24bf46f5-59f8-40f6-82bb-6cf1c4aa3ee8",
   "metadata": {},
   "outputs": [
    {
     "name": "stdin",
     "output_type": "stream",
     "text": [
      "Enter a character: A\n"
     ]
    },
    {
     "name": "stdout",
     "output_type": "stream",
     "text": [
      "The ASCII value of A is 65\n"
     ]
    }
   ],
   "source": [
    "Char = input(\"Enter a character:\")\n",
    "Ascii_val = ord(Char)\n",
    "print('The ASCII value of', Char, 'is', Ascii_val)"
   ]
  },
  {
   "cell_type": "markdown",
   "id": "caa5269e-bed9-48c0-a20f-e63e871c2d3a",
   "metadata": {},
   "source": [
    "#### Write a Python Program to Make a Simple Calculator with 4 basic mathematical operations?"
   ]
  },
  {
   "cell_type": "code",
   "execution_count": 21,
   "id": "c5e89395-78bf-4aa6-bcb8-da2a2b40a555",
   "metadata": {},
   "outputs": [
    {
     "name": "stdin",
     "output_type": "stream",
     "text": [
      "Enter first number:  3\n",
      "Enter second number:  5\n"
     ]
    },
    {
     "name": "stdout",
     "output_type": "stream",
     "text": [
      "Select operation: +, -, *, /\n"
     ]
    },
    {
     "name": "stdin",
     "output_type": "stream",
     "text": [
      "Enter operator:  -\n"
     ]
    },
    {
     "name": "stdout",
     "output_type": "stream",
     "text": [
      "Result: -2.0\n"
     ]
    }
   ],
   "source": [
    "num1 = float(input(\"Enter first number: \"))\n",
    "num2 = float(input(\"Enter second number: \"))\n",
    "print(\"Select operation: +, -, *, /\")\n",
    "op = input(\"Enter operator: \")\n",
    "if op == \"+\":\n",
    "    print(\"Result:\", num1 + num2)\n",
    "elif op == \"-\":\n",
    "    print(\"Result:\", num1 - num2)\n",
    "elif op == \"*\":\n",
    "    print(\"Result:\", num1 * num2)\n",
    "elif op == \"/\":\n",
    "    if num2 != 0:\n",
    "        print(\"Result:\", num1 / num2)\n",
    "    else:\n",
    "        print(\"Error! Division by zero\")\n",
    "else:\n",
    "    print(\"Invalid operator\")\n"
   ]
  },
  {
   "cell_type": "code",
   "execution_count": null,
   "id": "09618662-ab4c-4dc3-bec6-59a99a94e389",
   "metadata": {},
   "outputs": [],
   "source": []
  }
 ],
 "metadata": {
  "kernelspec": {
   "display_name": "Python 3 (ipykernel)",
   "language": "python",
   "name": "python3"
  },
  "language_info": {
   "codemirror_mode": {
    "name": "ipython",
    "version": 3
   },
   "file_extension": ".py",
   "mimetype": "text/x-python",
   "name": "python",
   "nbconvert_exporter": "python",
   "pygments_lexer": "ipython3",
   "version": "3.13.5"
  }
 },
 "nbformat": 4,
 "nbformat_minor": 5
}
