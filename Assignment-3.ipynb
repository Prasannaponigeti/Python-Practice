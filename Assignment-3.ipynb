{
 "cells": [
  {
   "cell_type": "markdown",
   "id": "44bb6406-161d-412f-a21f-7209ecce2a67",
   "metadata": {},
   "source": [
    "#### 1. Write a Python Program to Check Leap Year?"
   ]
  },
  {
   "cell_type": "code",
   "execution_count": 5,
   "id": "8c9c7c58-2f4a-4cb0-87e3-e2d44779ba8f",
   "metadata": {},
   "outputs": [
    {
     "name": "stdin",
     "output_type": "stream",
     "text": [
      "enter year: 2025\n"
     ]
    },
    {
     "name": "stdout",
     "output_type": "stream",
     "text": [
      "2025 is not leap year\n"
     ]
    },
    {
     "name": "stdin",
     "output_type": "stream",
     "text": [
      "Enter a year:  2000\n"
     ]
    },
    {
     "data": {
      "text/plain": [
       "'2000 is a leap year'"
      ]
     },
     "execution_count": 5,
     "metadata": {},
     "output_type": "execute_result"
    }
   ],
   "source": [
    "year=int(input(\"enter year:\"))\n",
    "if (year % 4==0 and year %100!=0) or year % 400==0:\n",
    "    print(f'{year} is leap year')\n",
    "else:\n",
    "    print(f'{year} is not leap year')\n",
    "#method 2\n",
    "def check_leap_year(year):\n",
    "    if year % 400==0:\n",
    "        return f\"{year} is a leap year\"\n",
    "        \n",
    "    elif year % 100==0 and year % 400 !=0:\n",
    "        return f\"{year} is not a leap year\"\n",
    "         \n",
    "    elif year % 4==0:\n",
    "        return f\"{year} is a leap year\"\n",
    "    else:\n",
    "        return f\"{year} is not a leap year\"\n",
    "\n",
    "check_leap_year(int(input('Enter a year: ')))"
   ]
  },
  {
   "cell_type": "markdown",
   "id": "e77646ff-7325-4bd7-a5b9-7c8b2e556140",
   "metadata": {},
   "source": [
    "#### 2. Write a Python Program to Check Prime Number?"
   ]
  },
  {
   "cell_type": "code",
   "execution_count": 9,
   "id": "2e783749-43bb-4656-bc76-ab176f289124",
   "metadata": {},
   "outputs": [
    {
     "name": "stdin",
     "output_type": "stream",
     "text": [
      "enter a number: 1\n"
     ]
    },
    {
     "name": "stdout",
     "output_type": "stream",
     "text": [
      "1 is prime number\n"
     ]
    }
   ],
   "source": [
    "n=int(input('enter a number:'))\n",
    "c=0\n",
    "for i in range(2,int(n**0.5)+1):\n",
    "    if n % i==0:\n",
    "        c=1\n",
    "        break\n",
    "if c==0:\n",
    "    print(f\"{n} is prime number\")\n",
    "else:\n",
    "    print(f'{n} is not a prime number')\n"
   ]
  },
  {
   "cell_type": "code",
   "execution_count": 36,
   "id": "11a1f23e-7a82-476d-b7e9-ce49ecaaea3f",
   "metadata": {},
   "outputs": [
    {
     "name": "stdin",
     "output_type": "stream",
     "text": [
      "Enter a number:  97\n"
     ]
    },
    {
     "name": "stdout",
     "output_type": "stream",
     "text": [
      "97 is a prime number\n"
     ]
    }
   ],
   "source": [
    "#method-2\n",
    "num = int(input(\"Enter a number: \"))\n",
    "if num > 1:\n",
    "    for i in range(2, int(num**0.5) + 1):\n",
    "        if num % i == 0:\n",
    "            print(num, \"is not a prime number\")\n",
    "            break\n",
    "    else:\n",
    "        print(num, \"is a prime number\")\n",
    "else:\n",
    "    print(num, \"is not a prime number\")\n"
   ]
  },
  {
   "cell_type": "markdown",
   "id": "1c165cde-7801-4d96-8024-3579bebfba3f",
   "metadata": {},
   "source": [
    "#### 3. Write a Python Program to Print all Prime Numbers in an Interval of 1-10000?"
   ]
  },
  {
   "cell_type": "code",
   "execution_count": 39,
   "id": "db434b03-2522-4bbf-9909-2a468b8ffc04",
   "metadata": {},
   "outputs": [
    {
     "name": "stdout",
     "output_type": "stream",
     "text": [
      "1 2 3 5 7 11 13 17 19 23 29 31 37 41 43 47 53 59 61 67 71 73 79 83 89 97 101 103 107 109 113 127 131 137 139 149 151 157 163 167 173 179 181 191 193 197 199 211 223 227 229 233 239 241 251 257 263 269 271 277 281 283 293 307 311 313 317 331 337 347 349 353 359 367 373 379 383 389 397 401 409 419 421 431 433 439 443 449 457 461 463 467 479 487 491 499 503 509 521 523 541 547 557 563 569 571 577 587 593 599 601 607 613 617 619 631 641 643 647 653 659 661 673 677 683 691 701 709 719 727 733 739 743 751 757 761 769 773 787 797 809 811 821 823 827 829 839 853 857 859 863 877 881 883 887 907 911 919 929 937 941 947 953 967 971 977 983 991 997\n"
     ]
    }
   ],
   "source": [
    "lst=list()\n",
    "for j in range(1,1000):\n",
    "    c=0\n",
    "    for i in range(2,int(j**0.5)+1):\n",
    "        if j % i==0:\n",
    "            c=1\n",
    "            break\n",
    "    if c==0:\n",
    "        lst.append(j)\n",
    "print(*lst)"
   ]
  },
  {
   "cell_type": "code",
   "execution_count": 40,
   "id": "82adb139-839f-40b5-a18b-3ba3a99efe7d",
   "metadata": {},
   "outputs": [],
   "source": [
    "# Write a Python Program to Find the Factorial of a Number?\n",
    "# Write a Python Program to Display the multiplication Table?\n",
    "# Write a Python Program to Print the Fibonacci sequence?\n",
    "# Write a Python Program to Check Armstrong Number?\n",
    "# Write a Python Program to Find Armstrong Number in an Interval?\n",
    "# Write a Python Program to Find the Sum of Natural Numbers?"
   ]
  },
  {
   "cell_type": "markdown",
   "id": "6ed844fb-7f43-44c3-8431-3807141bb7fc",
   "metadata": {},
   "source": [
    "#### 4. Write a Python Program to Find the Factorial of a Number?"
   ]
  },
  {
   "cell_type": "code",
   "execution_count": 41,
   "id": "4da19385-dee2-4e38-8361-f235c7823ae5",
   "metadata": {},
   "outputs": [
    {
     "name": "stdin",
     "output_type": "stream",
     "text": [
      "Enter a number:  6\n"
     ]
    },
    {
     "name": "stdout",
     "output_type": "stream",
     "text": [
      "Factorial of 6 is 720\n"
     ]
    }
   ],
   "source": [
    "#method-1\n",
    "num = int(input(\"Enter a number: \"))\n",
    "fact = 1\n",
    "for i in range(1, num + 1):\n",
    "    fact *= i\n",
    "print(\"Factorial of\", num, \"is\", fact)\n"
   ]
  },
  {
   "cell_type": "code",
   "execution_count": 42,
   "id": "8c16b991-12bc-477d-adad-a2db04908ffb",
   "metadata": {},
   "outputs": [
    {
     "name": "stdin",
     "output_type": "stream",
     "text": [
      "Enter a number:  4\n"
     ]
    },
    {
     "name": "stdout",
     "output_type": "stream",
     "text": [
      "Factorial of 4 is 24\n"
     ]
    }
   ],
   "source": [
    "#method-2 using recursion\n",
    "def factorial(n):\n",
    "    if n == 0 or n == 1:\n",
    "        return 1\n",
    "    return n * factorial(n - 1)\n",
    "\n",
    "num = int(input(\"Enter a number: \"))\n",
    "print(\"Factorial of\", num, \"is\", factorial(num))\n"
   ]
  },
  {
   "cell_type": "code",
   "execution_count": 46,
   "id": "284ef022-e457-415e-b034-748c7a7caea4",
   "metadata": {},
   "outputs": [
    {
     "name": "stdin",
     "output_type": "stream",
     "text": [
      "Enter a number:  9\n"
     ]
    },
    {
     "name": "stdout",
     "output_type": "stream",
     "text": [
      "Factorial of 9 is 362880\n"
     ]
    }
   ],
   "source": [
    "#method-3\n",
    "import math\n",
    "num = int(input(\"Enter a number: \"))\n",
    "print(\"Factorial of\", num, \"is\", math.factorial(num))\n"
   ]
  },
  {
   "cell_type": "markdown",
   "id": "f397a5f3-5cf3-40d6-b477-2b998f578a33",
   "metadata": {},
   "source": [
    "#### 5. Write a Python Program to Display the multiplication Table?"
   ]
  },
  {
   "cell_type": "code",
   "execution_count": 52,
   "id": "24646b30-5bd6-480c-b212-c6df255eea7a",
   "metadata": {},
   "outputs": [
    {
     "name": "stdin",
     "output_type": "stream",
     "text": [
      "Enter a number:  2\n"
     ]
    },
    {
     "name": "stdout",
     "output_type": "stream",
     "text": [
      "Multiplication Table of 2\n",
      "2 x 1 = 2\n",
      "2 x 2 = 4\n",
      "2 x 3 = 6\n",
      "2 x 4 = 8\n",
      "2 x 5 = 10\n",
      "2 x 6 = 12\n",
      "2 x 7 = 14\n",
      "2 x 8 = 16\n",
      "2 x 9 = 18\n",
      "2 x 10 = 20\n"
     ]
    }
   ],
   "source": [
    "num = int(input(\"Enter a number: \"))\n",
    "print(\"Multiplication Table of\", num)\n",
    "for i in range(1, 11):\n",
    "    print(num, \"x\", i, \"=\", num * i)\n"
   ]
  },
  {
   "cell_type": "code",
   "execution_count": 56,
   "id": "62ae0008-1be6-4920-8ccc-129cca72e904",
   "metadata": {},
   "outputs": [
    {
     "name": "stdout",
     "output_type": "stream",
     "text": [
      "\n",
      "Multiplication Table of 1\n",
      "1 x 1 = 1\n",
      "1 x 2 = 2\n",
      "1 x 3 = 3\n",
      "1 x 4 = 4\n",
      "1 x 5 = 5\n",
      "1 x 6 = 6\n",
      "1 x 7 = 7\n",
      "1 x 8 = 8\n",
      "1 x 9 = 9\n",
      "1 x 10 = 10\n",
      "\n",
      "Multiplication Table of 2\n",
      "2 x 1 = 2\n",
      "2 x 2 = 4\n",
      "2 x 3 = 6\n",
      "2 x 4 = 8\n",
      "2 x 5 = 10\n",
      "2 x 6 = 12\n",
      "2 x 7 = 14\n",
      "2 x 8 = 16\n",
      "2 x 9 = 18\n",
      "2 x 10 = 20\n",
      "\n",
      "Multiplication Table of 3\n",
      "3 x 1 = 3\n",
      "3 x 2 = 6\n",
      "3 x 3 = 9\n",
      "3 x 4 = 12\n",
      "3 x 5 = 15\n",
      "3 x 6 = 18\n",
      "3 x 7 = 21\n",
      "3 x 8 = 24\n",
      "3 x 9 = 27\n",
      "3 x 10 = 30\n",
      "\n",
      "Multiplication Table of 4\n",
      "4 x 1 = 4\n",
      "4 x 2 = 8\n",
      "4 x 3 = 12\n",
      "4 x 4 = 16\n",
      "4 x 5 = 20\n",
      "4 x 6 = 24\n",
      "4 x 7 = 28\n",
      "4 x 8 = 32\n",
      "4 x 9 = 36\n",
      "4 x 10 = 40\n",
      "\n",
      "Multiplication Table of 5\n",
      "5 x 1 = 5\n",
      "5 x 2 = 10\n",
      "5 x 3 = 15\n",
      "5 x 4 = 20\n",
      "5 x 5 = 25\n",
      "5 x 6 = 30\n",
      "5 x 7 = 35\n",
      "5 x 8 = 40\n",
      "5 x 9 = 45\n",
      "5 x 10 = 50\n"
     ]
    }
   ],
   "source": [
    "# Multiplication tables from 1 to 10\n",
    "for num in range(1, 6):\n",
    "    print(\"\\nMultiplication Table of\", num)\n",
    "    for i in range(1, 11):\n",
    "        print(num, \"x\", i, \"=\", num * i)\n"
   ]
  },
  {
   "cell_type": "markdown",
   "id": "70a67f59-6b49-4d57-8fcc-402f3aba7715",
   "metadata": {},
   "source": [
    "#### 6. Write a Python Program to Print the Fibonacci sequence?"
   ]
  },
  {
   "cell_type": "code",
   "execution_count": 58,
   "id": "15c46c96-ab85-403d-8f45-c754996495ae",
   "metadata": {},
   "outputs": [
    {
     "name": "stdin",
     "output_type": "stream",
     "text": [
      "Enter number of terms:  10\n"
     ]
    },
    {
     "name": "stdout",
     "output_type": "stream",
     "text": [
      "Fibonacci sequence:\n",
      "0 1 1 2 3 5 8 13 21 34 "
     ]
    }
   ],
   "source": [
    "# Fibonacci sequence using loop\n",
    "n = int(input(\"Enter number of terms: \"))\n",
    "a, b = 0, 1\n",
    "print(\"Fibonacci sequence:\")\n",
    "for _ in range(n):\n",
    "    print(a, end=\" \")\n",
    "    a, b = b, a + b\n"
   ]
  },
  {
   "cell_type": "code",
   "execution_count": 59,
   "id": "9b252732-6b38-41d8-944c-66d70d152527",
   "metadata": {},
   "outputs": [
    {
     "name": "stdin",
     "output_type": "stream",
     "text": [
      "Enter number of terms:  9\n"
     ]
    },
    {
     "name": "stdout",
     "output_type": "stream",
     "text": [
      "Fibonacci sequence:\n",
      "0 1 1 2 3 5 8 13 21 "
     ]
    }
   ],
   "source": [
    "# Fibonacci sequence using recursion\n",
    "def fibonacci(n):\n",
    "    if n <= 1:\n",
    "        return n\n",
    "    return fibonacci(n - 1) + fibonacci(n - 2)\n",
    "n = int(input(\"Enter number of terms: \"))\n",
    "print(\"Fibonacci sequence:\")\n",
    "for i in range(n):\n",
    "    print(fibonacci(i), end=\" \")\n"
   ]
  },
  {
   "cell_type": "code",
   "execution_count": 60,
   "id": "d5f6f5c2-92d8-4ca4-9c53-2d30538d8b0f",
   "metadata": {},
   "outputs": [
    {
     "name": "stdout",
     "output_type": "stream",
     "text": [
      "Fibonacci sequence:\n"
     ]
    },
    {
     "name": "stdin",
     "output_type": "stream",
     "text": [
      "Enter number of terms:  20\n"
     ]
    },
    {
     "name": "stdout",
     "output_type": "stream",
     "text": [
      "0 1 1 2 3 5 8 13 21 34 55 89 144 233 377 610 987 1597 2584 4181\n"
     ]
    }
   ],
   "source": [
    "# Fibonacci sequence using generator + one-liner\n",
    "def fib(n):\n",
    "    a, b = 0, 1\n",
    "    for _ in range(n):\n",
    "        yield a\n",
    "        a, b = b, a + b\n",
    "print(\"Fibonacci sequence:\")\n",
    "print(*fib(int(input(\"Enter number of terms: \"))))\n"
   ]
  },
  {
   "cell_type": "markdown",
   "id": "2845571a-23a2-46d1-92ff-a4c3ab7c8b5b",
   "metadata": {},
   "source": [
    "#### 7. Write a Python Program to Check Armstrong Number?"
   ]
  },
  {
   "cell_type": "code",
   "execution_count": 61,
   "id": "60432d6e-cd00-424f-b715-58b95f75728e",
   "metadata": {},
   "outputs": [
    {
     "name": "stdin",
     "output_type": "stream",
     "text": [
      "Enter a number:  899\n"
     ]
    },
    {
     "name": "stdout",
     "output_type": "stream",
     "text": [
      "899 is not an Armstrong number\n"
     ]
    }
   ],
   "source": [
    "def is_armstrong(num):\n",
    "    power = len(str(num))  # number of digits\n",
    "    total = sum(int(digit) ** power for digit in str(num))\n",
    "    return num == total\n",
    "num = int(input(\"Enter a number: \"))\n",
    "if is_armstrong(num):\n",
    "    print(num, \"is an Armstrong number\")\n",
    "else:\n",
    "    print(num, \"is not an Armstrong number\")\n"
   ]
  },
  {
   "cell_type": "markdown",
   "id": "60043e48-b708-466e-bb3a-76084a6ad329",
   "metadata": {},
   "source": [
    "#### 8. Write a Python Program to Find Armstrong Number in an Interval?"
   ]
  },
  {
   "cell_type": "code",
   "execution_count": 6,
   "id": "9b305aaf-52a5-4e2c-8422-dd4ced5f9d5a",
   "metadata": {},
   "outputs": [
    {
     "name": "stdin",
     "output_type": "stream",
     "text": [
      "Enter the range limit:  10000\n"
     ]
    },
    {
     "name": "stdout",
     "output_type": "stream",
     "text": [
      "The Armstrong numbers between 0 and 10000 are:\n",
      " [0, 1, 2, 3, 4, 5, 6, 7, 8, 9, 153, 370, 371, 407, 1634, 8208, 9474]\n"
     ]
    }
   ],
   "source": [
    "def is_armstrong(n):\n",
    "    s, k = 0, n\n",
    "    p = len(str(n))\n",
    "    while k > 0:\n",
    "        d = k % 10\n",
    "        s += d ** p\n",
    "        k //= 10\n",
    "    return s == n\n",
    "limit = int(input(\"Enter the range limit: \"))\n",
    "armstrong_nums = [i for i in range(limit+1) if is_armstrong(i)]\n",
    "print(f\"The Armstrong numbers between 0 and {limit} are:\\n\", armstrong_nums)\n",
    "\n"
   ]
  },
  {
   "cell_type": "markdown",
   "id": "bdcf62d4-7231-45bf-ba1d-44f68248bf37",
   "metadata": {},
   "source": [
    "#### 9. Write a Python Program to Find the Sum of Natural Numbers?"
   ]
  },
  {
   "cell_type": "code",
   "execution_count": 11,
   "id": "211767c3-2fb3-4762-bbf4-716590b6a02d",
   "metadata": {},
   "outputs": [
    {
     "name": "stdin",
     "output_type": "stream",
     "text": [
      "Enter a number:  500\n"
     ]
    },
    {
     "name": "stdout",
     "output_type": "stream",
     "text": [
      "Sum of 500 natural numbers is 125250\n"
     ]
    }
   ],
   "source": [
    "def sumOfNaturalNumbers(num):\n",
    "    sum = num*((num+1)/2)\n",
    "    print(f'Sum of {num} natural numbers is {int(sum)}')\n",
    "    \n",
    "num = int(input('Enter a number: '))\n",
    "sumOfNaturalNumbers(num)"
   ]
  },
  {
   "cell_type": "code",
   "execution_count": null,
   "id": "fcab6ec6-c8b2-492c-a566-5e9868cae4e2",
   "metadata": {},
   "outputs": [],
   "source": []
  }
 ],
 "metadata": {
  "kernelspec": {
   "display_name": "Python 3 (ipykernel)",
   "language": "python",
   "name": "python3"
  },
  "language_info": {
   "codemirror_mode": {
    "name": "ipython",
    "version": 3
   },
   "file_extension": ".py",
   "mimetype": "text/x-python",
   "name": "python",
   "nbconvert_exporter": "python",
   "pygments_lexer": "ipython3",
   "version": "3.13.5"
  }
 },
 "nbformat": 4,
 "nbformat_minor": 5
}
