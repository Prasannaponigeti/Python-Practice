{
 "cells": [
  {
   "cell_type": "markdown",
   "id": "fd2def41-34f9-495d-89ca-79479503fd80",
   "metadata": {},
   "source": [
    "#### Write a Python program to convert kilometers to miles?"
   ]
  },
  {
   "cell_type": "code",
   "execution_count": 9,
   "id": "2fd96630-f35b-4610-a64d-7cd8450a4b03",
   "metadata": {},
   "outputs": [
    {
     "name": "stdin",
     "output_type": "stream",
     "text": [
      "enter how many kilometers: 10\n"
     ]
    },
    {
     "name": "stdout",
     "output_type": "stream",
     "text": [
      "16.09\n"
     ]
    }
   ],
   "source": [
    "kilometers=int(input(\"enter how many kilometers:\"))\n",
    "miles=kilometers*1.609\n",
    "print(miles)"
   ]
  },
  {
   "cell_type": "markdown",
   "id": "2c8f265d-bb98-438c-bd4e-cad050cdf902",
   "metadata": {},
   "source": [
    "#### Write a Python program to convert Celsius to Fahrenheit?"
   ]
  },
  {
   "cell_type": "code",
   "execution_count": 2,
   "id": "683646f8-a780-44e8-a923-044a2635636e",
   "metadata": {},
   "outputs": [
    {
     "name": "stdin",
     "output_type": "stream",
     "text": [
      "enter the celsius: 36\n"
     ]
    },
    {
     "name": "stdout",
     "output_type": "stream",
     "text": [
      "96.8\n"
     ]
    }
   ],
   "source": [
    "celsius=int(input(\"enter the celsius:\"))\n",
    "fahrenheit=(celsius*9/5)+32\n",
    "print(fahrenheit)"
   ]
  },
  {
   "cell_type": "code",
   "execution_count": 3,
   "id": "4e5eab43-cdc2-4d4c-8176-97969319386d",
   "metadata": {},
   "outputs": [
    {
     "name": "stdin",
     "output_type": "stream",
     "text": [
      "enter the fahrenheit: 96.8\n"
     ]
    },
    {
     "name": "stdout",
     "output_type": "stream",
     "text": [
      "36.0\n"
     ]
    }
   ],
   "source": [
    "#fahrenheit to celsius\n",
    "fahrenheit=float(input(\"enter the fahrenheit:\"))\n",
    "celsius=(fahrenheit-32)*5/9\n",
    "print(celsius)"
   ]
  },
  {
   "cell_type": "markdown",
   "id": "4916b8ca-7f80-4b67-ade4-d2d1ec7e88f1",
   "metadata": {},
   "source": [
    "#### Write a Python program to display calendar?"
   ]
  },
  {
   "cell_type": "code",
   "execution_count": 2,
   "id": "d0401b06-dff5-4f9c-988a-2b555a0ee664",
   "metadata": {},
   "outputs": [
    {
     "name": "stdin",
     "output_type": "stream",
     "text": [
      "Enter year:  2026\n"
     ]
    },
    {
     "name": "stdout",
     "output_type": "stream",
     "text": [
      "                                  2026\n",
      "\n",
      "      January                   February                   March\n",
      "Mo Tu We Th Fr Sa Su      Mo Tu We Th Fr Sa Su      Mo Tu We Th Fr Sa Su\n",
      "          1  2  3  4                         1                         1\n",
      " 5  6  7  8  9 10 11       2  3  4  5  6  7  8       2  3  4  5  6  7  8\n",
      "12 13 14 15 16 17 18       9 10 11 12 13 14 15       9 10 11 12 13 14 15\n",
      "19 20 21 22 23 24 25      16 17 18 19 20 21 22      16 17 18 19 20 21 22\n",
      "26 27 28 29 30 31         23 24 25 26 27 28         23 24 25 26 27 28 29\n",
      "                                                    30 31\n",
      "\n",
      "       April                      May                       June\n",
      "Mo Tu We Th Fr Sa Su      Mo Tu We Th Fr Sa Su      Mo Tu We Th Fr Sa Su\n",
      "       1  2  3  4  5                   1  2  3       1  2  3  4  5  6  7\n",
      " 6  7  8  9 10 11 12       4  5  6  7  8  9 10       8  9 10 11 12 13 14\n",
      "13 14 15 16 17 18 19      11 12 13 14 15 16 17      15 16 17 18 19 20 21\n",
      "20 21 22 23 24 25 26      18 19 20 21 22 23 24      22 23 24 25 26 27 28\n",
      "27 28 29 30               25 26 27 28 29 30 31      29 30\n",
      "\n",
      "        July                     August                  September\n",
      "Mo Tu We Th Fr Sa Su      Mo Tu We Th Fr Sa Su      Mo Tu We Th Fr Sa Su\n",
      "       1  2  3  4  5                      1  2          1  2  3  4  5  6\n",
      " 6  7  8  9 10 11 12       3  4  5  6  7  8  9       7  8  9 10 11 12 13\n",
      "13 14 15 16 17 18 19      10 11 12 13 14 15 16      14 15 16 17 18 19 20\n",
      "20 21 22 23 24 25 26      17 18 19 20 21 22 23      21 22 23 24 25 26 27\n",
      "27 28 29 30 31            24 25 26 27 28 29 30      28 29 30\n",
      "                          31\n",
      "\n",
      "      October                   November                  December\n",
      "Mo Tu We Th Fr Sa Su      Mo Tu We Th Fr Sa Su      Mo Tu We Th Fr Sa Su\n",
      "          1  2  3  4                         1          1  2  3  4  5  6\n",
      " 5  6  7  8  9 10 11       2  3  4  5  6  7  8       7  8  9 10 11 12 13\n",
      "12 13 14 15 16 17 18       9 10 11 12 13 14 15      14 15 16 17 18 19 20\n",
      "19 20 21 22 23 24 25      16 17 18 19 20 21 22      21 22 23 24 25 26 27\n",
      "26 27 28 29 30 31         23 24 25 26 27 28 29      28 29 30 31\n",
      "                          30\n",
      "\n"
     ]
    }
   ],
   "source": [
    "import calendar\n",
    "year = int(input(\"Enter year: \"))\n",
    "print(calendar.calendar(year))\n"
   ]
  },
  {
   "cell_type": "markdown",
   "id": "bf2abd33-4124-4076-9162-82828cd438b9",
   "metadata": {},
   "source": [
    "#### Write a Python program to solve quadratic equation?"
   ]
  },
  {
   "cell_type": "code",
   "execution_count": 3,
   "id": "8fe40b6e-0102-4870-b868-ffa8f32dc925",
   "metadata": {},
   "outputs": [
    {
     "name": "stdin",
     "output_type": "stream",
     "text": [
      " -8 6 5\n"
     ]
    },
    {
     "name": "stdout",
     "output_type": "stream",
     "text": [
      "-0.5 1.25\n"
     ]
    }
   ],
   "source": [
    "a, b, c = map(int, input().split())\n",
    "val = ((b**2)-(4*a*c))**0.5\n",
    "deno = 2 * a\n",
    "root1 =(-b + val)/deno\n",
    "root2 =(-b - val) / deno\n",
    "print(root1, root2)"
   ]
  },
  {
   "cell_type": "markdown",
   "id": "de6ff21e-fcdd-4a8f-8772-67d758856084",
   "metadata": {},
   "source": [
    "#### Write a Python program to swap two variables without temp variable?"
   ]
  },
  {
   "cell_type": "code",
   "execution_count": 4,
   "id": "4945d5b9-d5ec-42f2-a524-c79ddab929b2",
   "metadata": {},
   "outputs": [
    {
     "name": "stdin",
     "output_type": "stream",
     "text": [
      "enter values of a and b:  2 5\n"
     ]
    },
    {
     "name": "stdout",
     "output_type": "stream",
     "text": [
      "After swap a and b are:  5 2\n"
     ]
    }
   ],
   "source": [
    "a,b=map(int,input('enter values of a and b: ').split())\n",
    "a,b=b,a\n",
    "print('After swap a and b are: ',a,b)"
   ]
  },
  {
   "cell_type": "markdown",
   "id": "5fe0423f-0769-446d-98cd-039629980ee9",
   "metadata": {},
   "source": [
    "#### .Find the Sum of the First N Natural Numbers in Python?"
   ]
  },
  {
   "cell_type": "code",
   "execution_count": 5,
   "id": "56f3bc3c-cafb-41ad-b29e-352271d106ed",
   "metadata": {},
   "outputs": [
    {
     "name": "stdin",
     "output_type": "stream",
     "text": [
      " 6\n"
     ]
    },
    {
     "name": "stdout",
     "output_type": "stream",
     "text": [
      "21\n"
     ]
    },
    {
     "name": "stdin",
     "output_type": "stream",
     "text": [
      " 8\n"
     ]
    },
    {
     "name": "stdout",
     "output_type": "stream",
     "text": [
      "36\n"
     ]
    }
   ],
   "source": [
    "num = int(input())\n",
    "sum = 0\n",
    "for i in range(num+1):\n",
    "  sum+=i\n",
    "print(sum)\n",
    "#method 2\n",
    "num = int(input())\n",
    "print(int(num*(num+1)/2))"
   ]
  },
  {
   "cell_type": "markdown",
   "id": "ee9c32a5-c58e-4864-b5d6-b5ff1b24da76",
   "metadata": {},
   "source": [
    "#### Find the sum of the Digits of a Number ?"
   ]
  },
  {
   "cell_type": "code",
   "execution_count": 7,
   "id": "3cf17069-b3e4-43ce-b510-99685e34afe5",
   "metadata": {},
   "outputs": [
    {
     "name": "stdin",
     "output_type": "stream",
     "text": [
      "Enter Number:  12345678\n"
     ]
    },
    {
     "name": "stdout",
     "output_type": "stream",
     "text": [
      "36\n"
     ]
    }
   ],
   "source": [
    "num = input(\"Enter Number: \")\n",
    "sum = 0\n",
    "for i in num:\n",
    "    sum = sum + int(i)\n",
    "print(sum)"
   ]
  },
  {
   "cell_type": "markdown",
   "id": "db05a1f7-98fa-4504-a150-379a251fa60a",
   "metadata": {},
   "source": [
    "#### Find the Sum of Numbers in a given Range in Python ?"
   ]
  },
  {
   "cell_type": "code",
   "execution_count": 8,
   "id": "88708643-3f28-4d47-940f-08c5abc2b360",
   "metadata": {},
   "outputs": [
    {
     "name": "stdout",
     "output_type": "stream",
     "text": [
      "35\n",
      "18\n"
     ]
    }
   ],
   "source": [
    "num1, num2 = 2, 8\n",
    "sum = 0\n",
    "for i in range(num1,num2+1):\n",
    "  sum+=i\n",
    "print(sum)\n",
    "#method 2\n",
    "num1, num2 = 3, 6\n",
    "sum = int((num2*(num2+1)/2) - (num1*(num1+1)/2) + num1)\n",
    "print(sum)"
   ]
  },
  {
   "cell_type": "code",
   "execution_count": null,
   "id": "f1d84ee1-f85c-4bd8-86ae-027b4ff358f2",
   "metadata": {},
   "outputs": [],
   "source": []
  }
 ],
 "metadata": {
  "kernelspec": {
   "display_name": "Python 3 (ipykernel)",
   "language": "python",
   "name": "python3"
  },
  "language_info": {
   "codemirror_mode": {
    "name": "ipython",
    "version": 3
   },
   "file_extension": ".py",
   "mimetype": "text/x-python",
   "name": "python",
   "nbconvert_exporter": "python",
   "pygments_lexer": "ipython3",
   "version": "3.13.5"
  }
 },
 "nbformat": 4,
 "nbformat_minor": 5
}
