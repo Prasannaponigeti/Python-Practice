{
 "cells": [
  {
   "cell_type": "markdown",
   "id": "8e00d65d-d79c-44f7-9272-b5cfcc85b283",
   "metadata": {},
   "source": [
    "#### 1. Write a Python program to print \"Hello Python\"?"
   ]
  },
  {
   "cell_type": "code",
   "execution_count": 2,
   "id": "8c732380-8691-4dd2-a9de-bbc968d4e3a8",
   "metadata": {},
   "outputs": [
    {
     "name": "stdout",
     "output_type": "stream",
     "text": [
      "Hello Python\n"
     ]
    }
   ],
   "source": [
    "print(\"Hello Python\")"
   ]
  },
  {
   "cell_type": "markdown",
   "id": "ee7f9c14-7d36-4773-81bf-78006abfb459",
   "metadata": {},
   "source": [
    "#### 2.Write a Python program to do arithmetical operations addition and division.?"
   ]
  },
  {
   "cell_type": "code",
   "execution_count": 8,
   "id": "d4c72053-0b51-447e-b815-d60ee5f86939",
   "metadata": {},
   "outputs": [
    {
     "name": "stdout",
     "output_type": "stream",
     "text": [
      "12\n",
      "4\n",
      "32\n",
      "2.0\n",
      "2\n"
     ]
    }
   ],
   "source": [
    "a=8\n",
    "b=4\n",
    "print(a+b)\n",
    "print(a-b)\n",
    "print(a*b)\n",
    "print(a/b)\n",
    "print(a//b)"
   ]
  },
  {
   "cell_type": "markdown",
   "id": "14b22814-63ff-4d56-a83b-9e9faecad452",
   "metadata": {},
   "source": [
    "#### 3.Write a Python program to find the area of a triangle?"
   ]
  },
  {
   "cell_type": "code",
   "execution_count": 10,
   "id": "1c668092-007f-4139-843f-f704a3d7e65d",
   "metadata": {},
   "outputs": [],
   "source": [
    "base=6\n",
    "height=8\n",
    "area=0.5*base*height\n",
    "print(\"Area of triangle\", area)"
   ]
  },
  {
   "cell_type": "markdown",
   "id": "7a28bbbb-f6d2-4d7b-ad56-b8baa5a33ae8",
   "metadata": {},
   "source": [
    "#### 4.Write a Python program to swap two variables?"
   ]
  },
  {
   "cell_type": "code",
   "execution_count": 12,
   "id": "efa54169-3288-402e-a8ca-19f938b18755",
   "metadata": {},
   "outputs": [
    {
     "name": "stdout",
     "output_type": "stream",
     "text": [
      "5 6\n",
      "34 23\n"
     ]
    }
   ],
   "source": [
    "a=6\n",
    "b=5\n",
    "a,b=b,a\n",
    "print(a,b)\n",
    "#method2\n",
    "a=23\n",
    "b=34\n",
    "temp=a\n",
    "a=b\n",
    "b=temp\n",
    "print(a,b)"
   ]
  },
  {
   "cell_type": "markdown",
   "id": "c4d31808-09fe-409d-a985-d4a2057998da",
   "metadata": {},
   "source": [
    "#### 5.Write a Python program to generate a random number?"
   ]
  },
  {
   "cell_type": "code",
   "execution_count": 13,
   "id": "97faa987-1e5d-411d-81f1-885af8386db3",
   "metadata": {},
   "outputs": [
    {
     "name": "stdout",
     "output_type": "stream",
     "text": [
      "133496728\n"
     ]
    }
   ],
   "source": [
    "from random import randint\n",
    "print(randint(1,200000000))"
   ]
  },
  {
   "cell_type": "code",
   "execution_count": 20,
   "id": "8a87debb-ec59-4e82-9678-acdd5e075c51",
   "metadata": {},
   "outputs": [
    {
     "name": "stdout",
     "output_type": "stream",
     "text": [
      "Random number: 291\n"
     ]
    }
   ],
   "source": [
    "import random\n",
    "num=random.randint(1,500)\n",
    "print(\"Random number:\", num)"
   ]
  },
  {
   "cell_type": "code",
   "execution_count": 21,
   "id": "38b7544e-66f4-47bb-813b-ffe042b745d4",
   "metadata": {},
   "outputs": [
    {
     "name": "stdout",
     "output_type": "stream",
     "text": [
      "Random item: apple\n"
     ]
    }
   ],
   "source": [
    "# Random item from a list using random.choice\n",
    "import random\n",
    "items=[\"apple\", \"banana\", \"cherry\", \"prasanna\", \"mallika\"]\n",
    "choice=random.choice(items)\n",
    "print(\"Random item:\", choice)"
   ]
  },
  {
   "cell_type": "code",
   "execution_count": 16,
   "id": "bd21fc98-317a-40e9-bbe0-1e0f932debb1",
   "metadata": {},
   "outputs": [
    {
     "name": "stdout",
     "output_type": "stream",
     "text": [
      "Random item: ['prasanna', 'mallika']\n"
     ]
    }
   ],
   "source": [
    "#multiple random items from a list using random.sample()\n",
    "import random\n",
    "items=[\"apple\", \"banana\", \"cherry\", \"prasanna\", \"mallika\"]\n",
    "choice=random.sample(items,2)\n",
    "print(\"Random item:\", choice)"
   ]
  },
  {
   "cell_type": "code",
   "execution_count": 18,
   "id": "0d352df3-c992-474a-8b0d-65b97ece6b06",
   "metadata": {},
   "outputs": [
    {
     "name": "stdout",
     "output_type": "stream",
     "text": [
      "original list: ['apple', 'banana', 'cherry', 'prasanna', 'mallika']\n",
      "Shuffled list: ['prasanna', 'banana', 'apple', 'mallika', 'cherry']\n"
     ]
    }
   ],
   "source": [
    "#shuffling a list randomly using random.shuffle()\n",
    "import random\n",
    "items=[\"apple\", \"banana\", \"cherry\", \"prasanna\", \"mallika\"]\n",
    "print(\"original list:\", items)\n",
    "random.shuffle(items)\n",
    "print(\"Shuffled list:\", items)"
   ]
  },
  {
   "cell_type": "markdown",
   "id": "e6a8913f-4103-4106-8b62-ba81ade880d9",
   "metadata": {},
   "source": [
    "#### 6.write a python program to print whether the number is positive or negative ?"
   ]
  },
  {
   "cell_type": "code",
   "execution_count": 27,
   "id": "87e70123-ce9b-49ad-b5d9-c1e1f6eded92",
   "metadata": {},
   "outputs": [
    {
     "name": "stdout",
     "output_type": "stream",
     "text": [
      "Positive\n",
      "Negative\n"
     ]
    }
   ],
   "source": [
    "num = 5\n",
    "if num > 0:\n",
    "    print('Positive')\n",
    "elif num < 0:\n",
    "    print('Negative')\n",
    "else:\n",
    "    print('Zero')\n",
    "\n",
    "#method 2 using ternary operator\n",
    "num =-1\n",
    "print(\"Positive\" if num>=0 else \"Negative\")"
   ]
  },
  {
   "cell_type": "markdown",
   "id": "60d6407e-4858-47c9-a6d6-168c94f92aab",
   "metadata": {},
   "source": [
    "#### 7.write a python program to print even or odd number?"
   ]
  },
  {
   "cell_type": "code",
   "execution_count": 33,
   "id": "468df886-bb4c-4d54-9c36-71f6cec60569",
   "metadata": {},
   "outputs": [
    {
     "name": "stdin",
     "output_type": "stream",
     "text": [
      "Enter a number 6\n"
     ]
    },
    {
     "name": "stdout",
     "output_type": "stream",
     "text": [
      " It is a even number\n",
      "Even\n"
     ]
    }
   ],
   "source": [
    "num=int(input(\"Enter a number\"))\n",
    "if num%2==0:\n",
    "    print(\" It is a even number\")\n",
    "else:\n",
    "    print(\" It is an odd number\")\n",
    "#method 2\n",
    "num=2\n",
    "print(\"Even\") if num%2 == 0 else print(\"Odd\")"
   ]
  },
  {
   "cell_type": "markdown",
   "id": "2a948dc3-8810-4de3-a7fa-2b1882f838d2",
   "metadata": {},
   "source": [
    "#### 8.Write a python program to find greatest of two numbers?"
   ]
  },
  {
   "cell_type": "code",
   "execution_count": 37,
   "id": "262835b4-72c4-4e36-a38a-6afcfa4e5968",
   "metadata": {},
   "outputs": [
    {
     "name": "stdout",
     "output_type": "stream",
     "text": [
      "60\n",
      "250\n",
      "30\n"
     ]
    }
   ],
   "source": [
    "a,b=60,25\n",
    "if a>b:\n",
    "    print(a)\n",
    "else:\n",
    "    print(b)\n",
    "#method2 \n",
    "num1, num2 = 250, 70\n",
    "print(max(num1,num2))\n",
    "#method 3\n",
    "num1, num2 = 20 , 30\n",
    "print(num1 if num1>num2 else num2)"
   ]
  },
  {
   "cell_type": "markdown",
   "id": "afa158c9-8ee0-47db-a3f6-43f6de38eb27",
   "metadata": {},
   "source": [
    "#### 9. Write a python program to find greatest of three numbers?"
   ]
  },
  {
   "cell_type": "code",
   "execution_count": 39,
   "id": "f14595ec-9db5-41bb-9a6e-31807861214a",
   "metadata": {},
   "outputs": [
    {
     "name": "stdout",
     "output_type": "stream",
     "text": [
      "60\n"
     ]
    }
   ],
   "source": [
    "num1, num2, num3 = 45 , 60 , 20\n",
    "if num1 >= num2 and num1 >= num3:\n",
    "  print(num1)\n",
    "elif num2 >= num1 and num2 >= num3:\n",
    "  print(num2)\n",
    "else:\n",
    "  print(num3)"
   ]
  },
  {
   "cell_type": "markdown",
   "id": "6e41ec52-5ffa-46b0-99b8-0eaefa469206",
   "metadata": {},
   "source": [
    "#### 10. Write a python program to find sum of n natural numbers?"
   ]
  },
  {
   "cell_type": "code",
   "execution_count": 50,
   "id": "b7650cfd-df06-42c2-8baf-d4ef71a8143b",
   "metadata": {},
   "outputs": [
    {
     "name": "stdout",
     "output_type": "stream",
     "text": [
      "45\n",
      "210\n"
     ]
    }
   ],
   "source": [
    "num =9\n",
    "sum = int((num * (num + 1))/2)\n",
    "print(sum)\n",
    "#method2\n",
    "num=20\n",
    "sum=0\n",
    "for i in range(num+1):\n",
    "  sum+=i\n",
    "print(sum)"
   ]
  }
 ],
 "metadata": {
  "kernelspec": {
   "display_name": "Python 3 (ipykernel)",
   "language": "python",
   "name": "python3"
  },
  "language_info": {
   "codemirror_mode": {
    "name": "ipython",
    "version": 3
   },
   "file_extension": ".py",
   "mimetype": "text/x-python",
   "name": "python",
   "nbconvert_exporter": "python",
   "pygments_lexer": "ipython3",
   "version": "3.13.5"
  }
 },
 "nbformat": 4,
 "nbformat_minor": 5
}
