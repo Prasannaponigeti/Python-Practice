{
 "cells": [
  {
   "cell_type": "markdown",
   "id": "174b9296-aa55-4408-888c-7882d370210e",
   "metadata": {},
   "source": [
    "#### Write a Python Program to Display Fibonacci Sequence Using Recursion?"
   ]
  },
  {
   "cell_type": "code",
   "execution_count": 2,
   "id": "d22923a2-7ca1-430d-b806-1696a14d6677",
   "metadata": {},
   "outputs": [
    {
     "name": "stdin",
     "output_type": "stream",
     "text": [
      "Enter the number of terms:  8\n"
     ]
    },
    {
     "name": "stdout",
     "output_type": "stream",
     "text": [
      "Fibonacci sequence:\n",
      "0 1 1 2 3 5 8 13 "
     ]
    }
   ],
   "source": [
    "def fibonacci(n):\n",
    "    if n <= 1:\n",
    "        return n\n",
    "    else:\n",
    "        return fibonacci(n-1) + fibonacci(n-2)\n",
    "terms = int(input(\"Enter the number of terms: \"))\n",
    "print(\"Fibonacci sequence:\")\n",
    "for i in range(terms):\n",
    "    print(fibonacci(i), end=\" \")\n"
   ]
  },
  {
   "cell_type": "markdown",
   "id": "3ab7cd34-6193-49a4-b196-e8f8babfd979",
   "metadata": {},
   "source": [
    "#### Write a Python Program to Find Factorial of Number Using Recursion?"
   ]
  },
  {
   "cell_type": "code",
   "execution_count": 3,
   "id": "2df13e4f-edfd-48b4-8ea7-946ade91f2e5",
   "metadata": {},
   "outputs": [
    {
     "name": "stdin",
     "output_type": "stream",
     "text": [
      "Enter a number:  7\n"
     ]
    },
    {
     "name": "stdout",
     "output_type": "stream",
     "text": [
      "Factorial of 7 is: 5040\n"
     ]
    }
   ],
   "source": [
    "def factorial(n):\n",
    "    if n == 0 or n == 1:\n",
    "        return 1\n",
    "    else:\n",
    "        return n * factorial(n - 1)\n",
    "num = int(input(\"Enter a number: \"))\n",
    "if num < 0:\n",
    "    print(\"Factorial is not defined for negative numbers.\")\n",
    "else:\n",
    "    print(\"Factorial of\", num, \"is:\", factorial(num))\n"
   ]
  },
  {
   "cell_type": "markdown",
   "id": "3b79e0fe-30a8-491e-b487-9b684596640e",
   "metadata": {},
   "source": [
    "#### Write a Python Program to calculate your Body Mass Index?"
   ]
  },
  {
   "cell_type": "code",
   "execution_count": 4,
   "id": "61199334-c7cc-4e4c-8a8a-8f30f2935007",
   "metadata": {},
   "outputs": [
    {
     "name": "stdin",
     "output_type": "stream",
     "text": [
      "Enter your weight in kilograms:  65\n",
      "Enter your height in meters:  5.0\n"
     ]
    },
    {
     "name": "stdout",
     "output_type": "stream",
     "text": [
      "Your BMI is: 2.6\n",
      "You are Underweight.\n"
     ]
    }
   ],
   "source": [
    "weight = float(input(\"Enter your weight in kilograms: \"))\n",
    "height = float(input(\"Enter your height in meters: \"))\n",
    "bmi = weight / (height ** 2)\n",
    "print(\"Your BMI is:\", round(bmi, 2))\n",
    "if bmi < 18.5:\n",
    "    print(\"You are Underweight.\")\n",
    "elif 18.5 <= bmi < 24.9:\n",
    "    print(\"You have Normal weight.\")\n",
    "elif 25 <= bmi < 29.9:\n",
    "    print(\"You are Overweight.\")\n",
    "else:\n",
    "    print(\"You are Obese.\")"
   ]
  },
  {
   "cell_type": "code",
   "execution_count": 6,
   "id": "353f29aa-b45c-4a1a-a021-e7b9ccdc103b",
   "metadata": {},
   "outputs": [
    {
     "name": "stdin",
     "output_type": "stream",
     "text": [
      "Enter weight in kg:  65\n",
      "Enter height in meters:  1.7\n"
     ]
    },
    {
     "name": "stdout",
     "output_type": "stream",
     "text": [
      "Your BMI is: 22.49\n"
     ]
    }
   ],
   "source": [
    "#method-2\n",
    "def bmi(weight, height):\n",
    "    return weight / (height ** 2)\n",
    "\n",
    "w = float(input(\"Enter weight in kg: \"))\n",
    "h = float(input(\"Enter height in meters: \"))\n",
    "\n",
    "result = bmi(w, h)\n",
    "print(\"Your BMI is:\", round(result, 2))\n"
   ]
  },
  {
   "cell_type": "markdown",
   "id": "feb4bb12-ab74-4d2e-86d5-6ee6a61ee2a2",
   "metadata": {},
   "source": [
    "#### Write a Python Program to calculate the natural logarithm of any number?"
   ]
  },
  {
   "cell_type": "code",
   "execution_count": 9,
   "id": "9410b832-ab04-44fb-85da-ff5c627fe544",
   "metadata": {},
   "outputs": [
    {
     "name": "stdin",
     "output_type": "stream",
     "text": [
      "Enter a number:  5\n"
     ]
    },
    {
     "name": "stdout",
     "output_type": "stream",
     "text": [
      "Natural logarithm of 5.0 is: 1.6094379124341003\n"
     ]
    }
   ],
   "source": [
    "import math\n",
    "num = float(input(\"Enter a number: \"))\n",
    "if num > 0:\n",
    "    print(\"Natural logarithm of\", num, \"is:\", math.log(num))\n",
    "else:\n",
    "    print(\"Logarithm not defined for zero or negative numbers.\")\n"
   ]
  },
  {
   "cell_type": "markdown",
   "id": "d2bf6492-3961-4240-a2f6-0ae9d9f58cf3",
   "metadata": {},
   "source": [
    "#### Write a Python Program for cube sum of first n natural numbers?"
   ]
  },
  {
   "cell_type": "code",
   "execution_count": 10,
   "id": "d0d12be6-e568-4889-a702-27a187526c98",
   "metadata": {},
   "outputs": [
    {
     "name": "stdin",
     "output_type": "stream",
     "text": [
      "Enter a number:  6\n"
     ]
    },
    {
     "name": "stdout",
     "output_type": "stream",
     "text": [
      "Cube sum of first 6 natural numbers is: 441\n"
     ]
    }
   ],
   "source": [
    "n = int(input(\"Enter a number: \"))\n",
    "cube_sum = 0\n",
    "for i in range(1, n+1):\n",
    "    cube_sum += i**3\n",
    "print(\"Cube sum of first\", n, \"natural numbers is:\", cube_sum)\n"
   ]
  },
  {
   "cell_type": "code",
   "execution_count": 11,
   "id": "cf094711-fad4-424e-a150-fcfe2fc16622",
   "metadata": {},
   "outputs": [
    {
     "name": "stdin",
     "output_type": "stream",
     "text": [
      "Enter a number:  7\n"
     ]
    },
    {
     "name": "stdout",
     "output_type": "stream",
     "text": [
      "Cube sum of first 7 natural numbers is: 784\n"
     ]
    }
   ],
   "source": [
    "#method-2\n",
    "n = int(input(\"Enter a number: \"))\n",
    "cube_sum = (n * (n + 1) // 2) ** 2\n",
    "print(\"Cube sum of first\", n, \"natural numbers is:\", cube_sum)\n"
   ]
  },
  {
   "cell_type": "markdown",
   "id": "e90578d8-6075-45c7-8120-ef44260754ca",
   "metadata": {},
   "source": [
    "#### Write a python program to find sum of array?"
   ]
  },
  {
   "cell_type": "code",
   "execution_count": 12,
   "id": "38cb42a7-e8b1-4361-9b87-f92c476cb295",
   "metadata": {},
   "outputs": [
    {
     "name": "stdin",
     "output_type": "stream",
     "text": [
      "Enter number of elements:  4\n",
      "Enter element:  3\n",
      "Enter element:  9\n",
      "Enter element:  8\n",
      "Enter element:  6\n"
     ]
    },
    {
     "name": "stdout",
     "output_type": "stream",
     "text": [
      "Sum of array elements: 26\n"
     ]
    }
   ],
   "source": [
    "n = int(input(\"Enter number of elements: \"))\n",
    "total = 0\n",
    "for i in range(n):\n",
    "    num = int(input(\"Enter element: \"))\n",
    "    total += num\n",
    "print(\"Sum of array elements:\", total)"
   ]
  },
  {
   "cell_type": "code",
   "execution_count": 20,
   "id": "018ee733-eda9-471c-afef-17e6ef6455ec",
   "metadata": {},
   "outputs": [
    {
     "name": "stdin",
     "output_type": "stream",
     "text": [
      " 10 7 5 4\n"
     ]
    },
    {
     "name": "stdout",
     "output_type": "stream",
     "text": [
      "26\n"
     ]
    }
   ],
   "source": [
    "#method-2\n",
    "lst=list(map(int,input().split()))\n",
    "print(sum(lst))"
   ]
  },
  {
   "cell_type": "markdown",
   "id": "42369f67-0734-4527-be5f-8dda4677939d",
   "metadata": {},
   "source": [
    "#### write a python program to find largest element in an array?"
   ]
  },
  {
   "cell_type": "code",
   "execution_count": 14,
   "id": "b35c376e-bde7-4f63-985e-d45c16e18e17",
   "metadata": {},
   "outputs": [
    {
     "name": "stdin",
     "output_type": "stream",
     "text": [
      " 5\n",
      "Enter element:  5\n",
      "Enter element:  7\n",
      "Enter element:  89\n",
      "Enter element:  9\n",
      "Enter element:  7\n"
     ]
    },
    {
     "name": "stdout",
     "output_type": "stream",
     "text": [
      "Largest number is: 89\n"
     ]
    }
   ],
   "source": [
    "\n",
    "n = int(input())\n",
    "largest = int(input(\"Enter element: \"))\n",
    "for i in range(n - 1):\n",
    "    num = int(input(\"Enter element: \"))\n",
    "    if num > largest:\n",
    "        largest = num\n",
    "print(\"Largest number is:\", largest)"
   ]
  },
  {
   "cell_type": "markdown",
   "id": "d5eea14a-f766-4555-91ac-80de25b2ece7",
   "metadata": {},
   "source": [
    "#### write a python program to split the array and add the first part to the end"
   ]
  },
  {
   "cell_type": "code",
   "execution_count": 16,
   "id": "0599eaef-1463-4060-b72d-6bc056adb7da",
   "metadata": {},
   "outputs": [
    {
     "name": "stdin",
     "output_type": "stream",
     "text": [
      "Enter array:  1 2 3 4 5\n",
      "Enter split position:  2\n"
     ]
    },
    {
     "name": "stdout",
     "output_type": "stream",
     "text": [
      "Resulting array: [3, 4, 5, 1, 2]\n"
     ]
    }
   ],
   "source": [
    "arr = list(map(int, input(\"Enter array: \").split()))\n",
    "k = int(input(\"Enter split position: \"))\n",
    "for _ in range(k):\n",
    "    arr.append(arr.pop(0))\n",
    "print(\"Resulting array:\", arr)\n"
   ]
  },
  {
   "cell_type": "markdown",
   "id": "7f8b7beb-591a-435e-b959-0d51d617dcd9",
   "metadata": {},
   "source": [
    "#### Write a Python Program for array rotation?"
   ]
  },
  {
   "cell_type": "code",
   "execution_count": 18,
   "id": "5fb63bc4-974f-4b07-ab43-6f6ce28b452b",
   "metadata": {},
   "outputs": [
    {
     "name": "stdin",
     "output_type": "stream",
     "text": [
      "Enter a list of elements 1 5 6 7 8 9 5\n"
     ]
    },
    {
     "name": "stdout",
     "output_type": "stream",
     "text": [
      "The rotation of array is: 5 9 8 7 6 5 1\n"
     ]
    }
   ],
   "source": [
    "lst=list(map(int,input('Enter a list of elements').split()))\n",
    "print('The rotation of array is:',*lst[::-1])"
   ]
  },
  {
   "cell_type": "markdown",
   "id": "14d937c3-f8d2-4ce7-aa7a-3e72c65de959",
   "metadata": {},
   "source": [
    "#### Write a Python Program to check if given array is Monotonic?"
   ]
  },
  {
   "cell_type": "code",
   "execution_count": 25,
   "id": "1c4cbbd7-adf6-41eb-aab9-4fff98b78c01",
   "metadata": {},
   "outputs": [
    {
     "name": "stdin",
     "output_type": "stream",
     "text": [
      "  1 3 5 6 2 \n"
     ]
    },
    {
     "name": "stdout",
     "output_type": "stream",
     "text": [
      "Array: [1, 3, 5, 6, 2]\n",
      "Is Monotonic? False\n"
     ]
    }
   ],
   "source": [
    "def is_monotonic(arr):\n",
    "    return all(arr[i] <= arr[i+1] for i in range(len(arr)-1)) or \\\n",
    "           all(arr[i] >= arr[i+1] for i in range(len(arr)-1))\n",
    "arr = list(map(int, input().split()))\n",
    "print(\"Array:\", arr)\n",
    "print(\"Is Monotonic?\", is_monotonic(arr))\n"
   ]
  },
  {
   "cell_type": "code",
   "execution_count": 24,
   "id": "fcae034d-7aba-43e8-8f98-637cb7ad2493",
   "metadata": {},
   "outputs": [
    {
     "name": "stdin",
     "output_type": "stream",
     "text": [
      "Enter numbers separated by space:  1 2 3 4 5\n"
     ]
    },
    {
     "name": "stdout",
     "output_type": "stream",
     "text": [
      "Monotonic\n"
     ]
    }
   ],
   "source": [
    "#method-2\n",
    "arr = list(map(int, input(\"Enter numbers separated by space: \").split()))\n",
    "increasing = all(arr[i] <= arr[i+1] for i in range(len(arr)-1))\n",
    "decreasing = all(arr[i] >= arr[i+1] for i in range(len(arr)-1))\n",
    "if increasing or decreasing:\n",
    "    print(\"Monotonic\")\n",
    "else:\n",
    "    print(\"Not Monotonic\")\n"
   ]
  },
  {
   "cell_type": "code",
   "execution_count": null,
   "id": "1de6ec0c-8374-42d3-8171-ebdd50e70fdd",
   "metadata": {},
   "outputs": [],
   "source": []
  }
 ],
 "metadata": {
  "kernelspec": {
   "display_name": "Python 3 (ipykernel)",
   "language": "python",
   "name": "python3"
  },
  "language_info": {
   "codemirror_mode": {
    "name": "ipython",
    "version": 3
   },
   "file_extension": ".py",
   "mimetype": "text/x-python",
   "name": "python",
   "nbconvert_exporter": "python",
   "pygments_lexer": "ipython3",
   "version": "3.13.5"
  }
 },
 "nbformat": 4,
 "nbformat_minor": 5
}
